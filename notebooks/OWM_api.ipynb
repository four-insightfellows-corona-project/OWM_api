{
 "cells": [
  {
   "cell_type": "markdown",
   "metadata": {},
   "source": [
    "#### Important  Note:\n",
    "\n",
    "In order for this to work you need to install the develop branch of pyowm, this can be done using:\n",
    "```\n",
    "pip install git+https://github.com/csparpa/pyowm.git@develop\n",
    "```"
   ]
  },
  {
   "cell_type": "code",
   "execution_count": 1,
   "metadata": {},
   "outputs": [],
   "source": [
    "import pyowm\n",
    "import pandas as pd\n",
    "import numpy as np\n",
    "import json\n",
    "import requests\n",
    "from pyowm.weatherapi25.parsers import forecastparser\n",
    "\n",
    "from auth import(\n",
    "    OWM_api_key)"
   ]
  },
  {
   "cell_type": "code",
   "execution_count": 2,
   "metadata": {},
   "outputs": [],
   "source": [
    "owm = pyowm.OWM(OWM_api_key)"
   ]
  },
  {
   "cell_type": "code",
   "execution_count": 3,
   "metadata": {},
   "outputs": [],
   "source": [
    "park_loc = pd.DataFrame({\n",
    "    'name': ['Prospect Park', 'Wooster Square'],\n",
    "    'lat': [40.662551, 41.304745],\n",
    "    'long': [-73.969256, -72.917757]})"
   ]
  },
  {
   "cell_type": "code",
   "execution_count": 4,
   "metadata": {},
   "outputs": [],
   "source": [
    "park_name = 'Prospect Park'\n",
    "park_lat = park_loc.loc[park_loc.name == park_name, 'lat'].iloc[0]\n",
    "park_long = park_loc.loc[park_loc.name == park_name, 'long'].iloc[0]\n",
    "\n",
    "park_fcstr = owm.three_hours_forecast_at_coords(\n",
    "    float(park_lat),float(park_long))"
   ]
  },
  {
   "cell_type": "code",
   "execution_count": 5,
   "metadata": {},
   "outputs": [],
   "source": [
    "OWM_forcast_cols = [\n",
    "    'park_name',\n",
    "    'reception_time',\n",
    "    'reference_time',\n",
    "    'sunset_time',\n",
    "    'sunrise_time',\n",
    "    'clouds',\n",
    "    'rain',\n",
    "    'snow',\n",
    "    'wind_speed',\n",
    "    'wind_deg',\n",
    "    'humidity',\n",
    "    'press',\n",
    "    'press_sea',\n",
    "    'temp',\n",
    "    'temp_feels',\n",
    "    'temp_max',\n",
    "    'temp_min',\n",
    "    'status',\n",
    "    'detailed_status'\n",
    "#     'visibility_distance',\n",
    "#     'dewpoint',\n",
    "#     'humidex',\n",
    "#     'heat_index'\n",
    "]"
   ]
  },
  {
   "cell_type": "code",
   "execution_count": 6,
   "metadata": {},
   "outputs": [
    {
     "data": {
      "text/plain": [
       "<pyowm.weatherapi25.forecast.Forecast - reception time=2020-04-10 18:55:13+00, interval=3h>"
      ]
     },
     "execution_count": 6,
     "metadata": {},
     "output_type": "execute_result"
    }
   ],
   "source": [
    "park_forcast = park_fcstr.get_forecast()\n",
    "park_forcast"
   ]
  },
  {
   "cell_type": "code",
   "execution_count": 7,
   "metadata": {},
   "outputs": [],
   "source": [
    "x = park_forcast.to_JSON()\n",
    "# json.loads(x)"
   ]
  },
  {
   "cell_type": "code",
   "execution_count": 8,
   "metadata": {},
   "outputs": [
    {
     "data": {
      "text/plain": [
       "{'temp': 46.74,\n",
       " 'temp_max': 47.44,\n",
       " 'temp_min': 46.74,\n",
       " 'feels_like': 28.02,\n",
       " 'temp_kf': -0.39}"
      ]
     },
     "execution_count": 8,
     "metadata": {},
     "output_type": "execute_result"
    }
   ],
   "source": [
    "park_forcast.get_weathers()[0].get_temperature(unit='fahrenheit')"
   ]
  },
  {
   "cell_type": "code",
   "execution_count": 9,
   "metadata": {},
   "outputs": [],
   "source": [
    "def forcast_to_df(park_forcast, t_sunrise, t_sunset, tz_correct):\n",
    "    ''' Takes a forcast object and sunrise/sunset time,\n",
    "        Returns datafram of relevant info\n",
    "    '''\n",
    "    # Neet to adjust sunrise/set times, should only go\n",
    "    # into columns of the same day (or just use last day in window?)\n",
    "    \n",
    "    forcast_df = pd.DataFrame(columns=OWM_forcast_cols)\n",
    "\n",
    "    for x in park_forcast.get_weathers():\n",
    "        if (t_sunrise == 0) or (t_sunset == 0):\n",
    "            x_sunrise = np.nan\n",
    "            x_sunset = np.nan\n",
    "        else:\n",
    "            x_sunrise = t_sunrise + tz_correct\n",
    "            x_sunset = t_sunset + tz_correct\n",
    "\n",
    "        x_rain = 0\n",
    "        if x.get_rain():\n",
    "            x_rain = x.get_rain()['3h']\n",
    "\n",
    "        x_snow = 0\n",
    "        if x.get_snow():\n",
    "            x_snow = x.get_snow()['3h']\n",
    "\n",
    "#         x_vis_dist = x.get_visibility_distance()\n",
    "#         if x_vis_dist is None:\n",
    "#             x_vis_dist = np.nan\n",
    "\n",
    "#         x_dew = x.get_dewpoint()\n",
    "#         if x_dew is None:\n",
    "#             x_dew = np.nan\n",
    "\n",
    "#         x_humid = x.get_humidex()\n",
    "#         if x_humid is None:\n",
    "#             x_humid = np.nan\n",
    "\n",
    "#         x_heat_idx = x.get_heat_index()\n",
    "#         if x_heat_idx is None:\n",
    "#             x_heat_idx = np.nan\n",
    "\n",
    "        to_add_dict = {\n",
    "            'park_name': [park_name],\n",
    "            'reception_time': [park_forcast.get_reception_time('unix') + tz_correct],\n",
    "            'reference_time': [x.get_reference_time() + tz_correct],\n",
    "            'sunrise_time': [x_sunrise],\n",
    "            'sunset_time': [x_sunset],\n",
    "            'clouds': [x.get_clouds()],\n",
    "            'rain': [x_rain],\n",
    "            'snow': [x_snow],\n",
    "            'wind_speed': [x.get_wind(unit='meters_sec')['speed']],\n",
    "            'wind_deg': [x.get_wind(unit='meters_sec')['deg']],\n",
    "            'humidity': [x.get_humidity()],\n",
    "            'press': [x.get_pressure()['press']],\n",
    "            'press_sea': [x.get_pressure()['sea_level']],\n",
    "            'temp': [x.get_temperature(unit='fahrenheit')['temp']],\n",
    "            'temp_feels': [x.get_temperature(unit='fahrenheit')['feels_like']],\n",
    "            'temp_max': [x.get_temperature(unit='fahrenheit')['temp_max']],\n",
    "            'temp_min': [x.get_temperature(unit='fahrenheit')['temp_min']],\n",
    "            'status': [x.get_status()],\n",
    "            'detailed_status': [x.get_detailed_status()]\n",
    "#             'visibility_distance': [x_vis_dist],\n",
    "#             'dewpoint': [x_dew],\n",
    "#             'humidex': [x_humid],\n",
    "#             'heat_index': [x_heat_idx]\n",
    "        }\n",
    "        to_add = pd.DataFrame(to_add_dict)\n",
    "        forcast_df = forcast_df.append(to_add, ignore_index=True)\n",
    "    return forcast_df"
   ]
  },
  {
   "cell_type": "code",
   "execution_count": 10,
   "metadata": {},
   "outputs": [
    {
     "data": {
      "text/html": [
       "<div>\n",
       "<style scoped>\n",
       "    .dataframe tbody tr th:only-of-type {\n",
       "        vertical-align: middle;\n",
       "    }\n",
       "\n",
       "    .dataframe tbody tr th {\n",
       "        vertical-align: top;\n",
       "    }\n",
       "\n",
       "    .dataframe thead th {\n",
       "        text-align: right;\n",
       "    }\n",
       "</style>\n",
       "<table border=\"1\" class=\"dataframe\">\n",
       "  <thead>\n",
       "    <tr style=\"text-align: right;\">\n",
       "      <th></th>\n",
       "      <th>park_name</th>\n",
       "      <th>reception_time</th>\n",
       "      <th>reference_time</th>\n",
       "      <th>sunset_time</th>\n",
       "      <th>sunrise_time</th>\n",
       "      <th>clouds</th>\n",
       "      <th>rain</th>\n",
       "      <th>snow</th>\n",
       "      <th>wind_speed</th>\n",
       "      <th>wind_deg</th>\n",
       "      <th>humidity</th>\n",
       "      <th>press</th>\n",
       "      <th>press_sea</th>\n",
       "      <th>temp</th>\n",
       "      <th>temp_feels</th>\n",
       "      <th>temp_max</th>\n",
       "      <th>temp_min</th>\n",
       "      <th>status</th>\n",
       "      <th>detailed_status</th>\n",
       "    </tr>\n",
       "  </thead>\n",
       "  <tbody>\n",
       "    <tr>\n",
       "      <th>0</th>\n",
       "      <td>Prospect Park</td>\n",
       "      <td>1586544923</td>\n",
       "      <td>1586552410</td>\n",
       "      <td>NaN</td>\n",
       "      <td>NaN</td>\n",
       "      <td>100</td>\n",
       "      <td>0</td>\n",
       "      <td>0</td>\n",
       "      <td>11.81</td>\n",
       "      <td>299</td>\n",
       "      <td>52</td>\n",
       "      <td>997</td>\n",
       "      <td>997</td>\n",
       "      <td>46.74</td>\n",
       "      <td>28.02</td>\n",
       "      <td>47.44</td>\n",
       "      <td>46.74</td>\n",
       "      <td>Clouds</td>\n",
       "      <td>overcast clouds</td>\n",
       "    </tr>\n",
       "    <tr>\n",
       "      <th>1</th>\n",
       "      <td>Prospect Park</td>\n",
       "      <td>1586544923</td>\n",
       "      <td>1586563210</td>\n",
       "      <td>NaN</td>\n",
       "      <td>NaN</td>\n",
       "      <td>100</td>\n",
       "      <td>0</td>\n",
       "      <td>0</td>\n",
       "      <td>11.17</td>\n",
       "      <td>304</td>\n",
       "      <td>57</td>\n",
       "      <td>1002</td>\n",
       "      <td>1002</td>\n",
       "      <td>44.78</td>\n",
       "      <td>26.92</td>\n",
       "      <td>45.30</td>\n",
       "      <td>44.78</td>\n",
       "      <td>Clouds</td>\n",
       "      <td>overcast clouds</td>\n",
       "    </tr>\n",
       "    <tr>\n",
       "      <th>2</th>\n",
       "      <td>Prospect Park</td>\n",
       "      <td>1586544923</td>\n",
       "      <td>1586574010</td>\n",
       "      <td>NaN</td>\n",
       "      <td>NaN</td>\n",
       "      <td>29</td>\n",
       "      <td>0</td>\n",
       "      <td>0</td>\n",
       "      <td>10.35</td>\n",
       "      <td>306</td>\n",
       "      <td>63</td>\n",
       "      <td>1006</td>\n",
       "      <td>1006</td>\n",
       "      <td>42.19</td>\n",
       "      <td>25.36</td>\n",
       "      <td>42.55</td>\n",
       "      <td>42.19</td>\n",
       "      <td>Clouds</td>\n",
       "      <td>scattered clouds</td>\n",
       "    </tr>\n",
       "    <tr>\n",
       "      <th>3</th>\n",
       "      <td>Prospect Park</td>\n",
       "      <td>1586544923</td>\n",
       "      <td>1586584810</td>\n",
       "      <td>NaN</td>\n",
       "      <td>NaN</td>\n",
       "      <td>15</td>\n",
       "      <td>0</td>\n",
       "      <td>0</td>\n",
       "      <td>8.80</td>\n",
       "      <td>301</td>\n",
       "      <td>67</td>\n",
       "      <td>1007</td>\n",
       "      <td>1007</td>\n",
       "      <td>40.46</td>\n",
       "      <td>25.57</td>\n",
       "      <td>40.64</td>\n",
       "      <td>40.46</td>\n",
       "      <td>Clouds</td>\n",
       "      <td>few clouds</td>\n",
       "    </tr>\n",
       "    <tr>\n",
       "      <th>4</th>\n",
       "      <td>Prospect Park</td>\n",
       "      <td>1586544923</td>\n",
       "      <td>1586595610</td>\n",
       "      <td>NaN</td>\n",
       "      <td>NaN</td>\n",
       "      <td>0</td>\n",
       "      <td>0</td>\n",
       "      <td>0</td>\n",
       "      <td>8.68</td>\n",
       "      <td>299</td>\n",
       "      <td>72</td>\n",
       "      <td>1009</td>\n",
       "      <td>1009</td>\n",
       "      <td>38.52</td>\n",
       "      <td>23.76</td>\n",
       "      <td>38.52</td>\n",
       "      <td>38.52</td>\n",
       "      <td>Clear</td>\n",
       "      <td>clear sky</td>\n",
       "    </tr>\n",
       "  </tbody>\n",
       "</table>\n",
       "</div>"
      ],
      "text/plain": [
       "       park_name reception_time reference_time  sunset_time  sunrise_time  \\\n",
       "0  Prospect Park     1586544923     1586552410          NaN           NaN   \n",
       "1  Prospect Park     1586544923     1586563210          NaN           NaN   \n",
       "2  Prospect Park     1586544923     1586574010          NaN           NaN   \n",
       "3  Prospect Park     1586544923     1586584810          NaN           NaN   \n",
       "4  Prospect Park     1586544923     1586595610          NaN           NaN   \n",
       "\n",
       "  clouds rain snow  wind_speed wind_deg humidity press press_sea   temp  \\\n",
       "0    100    0    0       11.81      299       52   997       997  46.74   \n",
       "1    100    0    0       11.17      304       57  1002      1002  44.78   \n",
       "2     29    0    0       10.35      306       63  1006      1006  42.19   \n",
       "3     15    0    0        8.80      301       67  1007      1007  40.46   \n",
       "4      0    0    0        8.68      299       72  1009      1009  38.52   \n",
       "\n",
       "   temp_feels  temp_max  temp_min  status   detailed_status  \n",
       "0       28.02     47.44     46.74  Clouds   overcast clouds  \n",
       "1       26.92     45.30     44.78  Clouds   overcast clouds  \n",
       "2       25.36     42.55     42.19  Clouds  scattered clouds  \n",
       "3       25.57     40.64     40.46  Clouds        few clouds  \n",
       "4       23.76     38.52     38.52   Clear         clear sky  "
      ]
     },
     "execution_count": 10,
     "metadata": {},
     "output_type": "execute_result"
    }
   ],
   "source": [
    "forcast_df = forcast_to_df(park_forcast, 0, 0, 10)\n",
    "forcast_df.head()"
   ]
  },
  {
   "cell_type": "code",
   "execution_count": 11,
   "metadata": {},
   "outputs": [],
   "source": [
    "test_weather = park_forcast.get_weathers()[0]"
   ]
  },
  {
   "cell_type": "code",
   "execution_count": 12,
   "metadata": {},
   "outputs": [],
   "source": [
    "# park_forcast.to_JSON()"
   ]
  },
  {
   "cell_type": "code",
   "execution_count": 13,
   "metadata": {},
   "outputs": [],
   "source": [
    "json_str = '{\"cod\":\"200\",\"message\":0,\"cnt\":40,\"list\":[{\"dt\":1585861200,\"main\":{\"temp\":281.88,\"feels_like\":275.02,\"temp_min\":280.27,\"temp_max\":281.88,\"pressure\":1001,\"sea_level\":1001,\"grnd_level\":1000,\"humidity\":76,\"temp_kf\":1.61},\"weather\":[{\"id\":500,\"main\":\"Rain\",\"description\":\"light rain\",\"icon\":\"10d\"}],\"clouds\":{\"all\":100},\"wind\":{\"speed\":8.12,\"deg\":332},\"rain\":{\"3h\":0.42},\"sys\":{\"pod\":\"d\"},\"dt_txt\":\"2020-04-02 21:00:00\"},{\"dt\":1585872000,\"main\":{\"temp\":282.02,\"feels_like\":275,\"temp_min\":280.81,\"temp_max\":282.02,\"pressure\":1002,\"sea_level\":1002,\"grnd_level\":1002,\"humidity\":75,\"temp_kf\":1.21},\"weather\":[{\"id\":500,\"main\":\"Rain\",\"description\":\"light rain\",\"icon\":\"10n\"}],\"clouds\":{\"all\":100},\"wind\":{\"speed\":8.33,\"deg\":329},\"rain\":{\"3h\":0.58},\"sys\":{\"pod\":\"n\"},\"dt_txt\":\"2020-04-03 00:00:00\"},{\"dt\":1585882800,\"main\":{\"temp\":281.51,\"feels_like\":274.68,\"temp_min\":280.71,\"temp_max\":281.51,\"pressure\":1001,\"sea_level\":1001,\"grnd_level\":1001,\"humidity\":79,\"temp_kf\":0.8},\"weather\":[{\"id\":500,\"main\":\"Rain\",\"description\":\"light rain\",\"icon\":\"10n\"}],\"clouds\":{\"all\":100},\"wind\":{\"speed\":8.13,\"deg\":332},\"rain\":{\"3h\":0.77},\"sys\":{\"pod\":\"n\"},\"dt_txt\":\"2020-04-03 03:00:00\"},{\"dt\":1585893600,\"main\":{\"temp\":281.31,\"feels_like\":275.01,\"temp_min\":280.91,\"temp_max\":281.31,\"pressure\":1001,\"sea_level\":1001,\"grnd_level\":1000,\"humidity\":81,\"temp_kf\":0.4},\"weather\":[{\"id\":500,\"main\":\"Rain\",\"description\":\"light rain\",\"icon\":\"10n\"}],\"clouds\":{\"all\":100},\"wind\":{\"speed\":7.42,\"deg\":338},\"rain\":{\"3h\":0.48},\"sys\":{\"pod\":\"n\"},\"dt_txt\":\"2020-04-03 06:00:00\"},{\"dt\":1585904400,\"main\":{\"temp\":281.05,\"feels_like\":275.07,\"temp_min\":281.05,\"temp_max\":281.05,\"pressure\":1001,\"sea_level\":1001,\"grnd_level\":1000,\"humidity\":82,\"temp_kf\":0},\"weather\":[{\"id\":500,\"main\":\"Rain\",\"description\":\"light rain\",\"icon\":\"10n\"}],\"clouds\":{\"all\":100},\"wind\":{\"speed\":6.94,\"deg\":341},\"rain\":{\"3h\":0.2},\"sys\":{\"pod\":\"n\"},\"dt_txt\":\"2020-04-03 09:00:00\"},{\"dt\":1585915200,\"main\":{\"temp\":281.04,\"feels_like\":275.21,\"temp_min\":281.04,\"temp_max\":281.04,\"pressure\":1003,\"sea_level\":1003,\"grnd_level\":1002,\"humidity\":83,\"temp_kf\":0},\"weather\":[{\"id\":500,\"main\":\"Rain\",\"description\":\"light rain\",\"icon\":\"10d\"}],\"clouds\":{\"all\":100},\"wind\":{\"speed\":6.77,\"deg\":347},\"rain\":{\"3h\":0.64},\"sys\":{\"pod\":\"d\"},\"dt_txt\":\"2020-04-03 12:00:00\"},{\"dt\":1585926000,\"main\":{\"temp\":282.16,\"feels_like\":275.7,\"temp_min\":282.16,\"temp_max\":282.16,\"pressure\":1004,\"sea_level\":1004,\"grnd_level\":1004,\"humidity\":80,\"temp_kf\":0},\"weather\":[{\"id\":500,\"main\":\"Rain\",\"description\":\"light rain\",\"icon\":\"10d\"}],\"clouds\":{\"all\":100},\"wind\":{\"speed\":7.84,\"deg\":5},\"rain\":{\"3h\":0.73},\"sys\":{\"pod\":\"d\"},\"dt_txt\":\"2020-04-03 15:00:00\"},{\"dt\":1585936800,\"main\":{\"temp\":282.4,\"feels_like\":275.95,\"temp_min\":282.4,\"temp_max\":282.4,\"pressure\":1006,\"sea_level\":1006,\"grnd_level\":1006,\"humidity\":80,\"temp_kf\":0},\"weather\":[{\"id\":500,\"main\":\"Rain\",\"description\":\"light rain\",\"icon\":\"10d\"}],\"clouds\":{\"all\":100},\"wind\":{\"speed\":7.89,\"deg\":11},\"rain\":{\"3h\":0.44},\"sys\":{\"pod\":\"d\"},\"dt_txt\":\"2020-04-03 18:00:00\"},{\"dt\":1585947600,\"main\":{\"temp\":282.16,\"feels_like\":276.23,\"temp_min\":282.16,\"temp_max\":282.16,\"pressure\":1008,\"sea_level\":1008,\"grnd_level\":1008,\"humidity\":81,\"temp_kf\":0},\"weather\":[{\"id\":500,\"main\":\"Rain\",\"description\":\"light rain\",\"icon\":\"10d\"}],\"clouds\":{\"all\":100},\"wind\":{\"speed\":7.14,\"deg\":14},\"rain\":{\"3h\":0.24},\"sys\":{\"pod\":\"d\"},\"dt_txt\":\"2020-04-03 21:00:00\"},{\"dt\":1585958400,\"main\":{\"temp\":281.67,\"feels_like\":276.09,\"temp_min\":281.67,\"temp_max\":281.67,\"pressure\":1011,\"sea_level\":1011,\"grnd_level\":1011,\"humidity\":81,\"temp_kf\":0},\"weather\":[{\"id\":804,\"main\":\"Clouds\",\"description\":\"overcast clouds\",\"icon\":\"04n\"}],\"clouds\":{\"all\":100},\"wind\":{\"speed\":6.5,\"deg\":16},\"sys\":{\"pod\":\"n\"},\"dt_txt\":\"2020-04-04 00:00:00\"},{\"dt\":1585969200,\"main\":{\"temp\":280.96,\"feels_like\":275.22,\"temp_min\":280.96,\"temp_max\":280.96,\"pressure\":1013,\"sea_level\":1013,\"grnd_level\":1012,\"humidity\":81,\"temp_kf\":0},\"weather\":[{\"id\":804,\"main\":\"Clouds\",\"description\":\"overcast clouds\",\"icon\":\"04n\"}],\"clouds\":{\"all\":98},\"wind\":{\"speed\":6.53,\"deg\":19},\"sys\":{\"pod\":\"n\"},\"dt_txt\":\"2020-04-04 03:00:00\"},{\"dt\":1585980000,\"main\":{\"temp\":280.25,\"feels_like\":274.92,\"temp_min\":280.25,\"temp_max\":280.25,\"pressure\":1014,\"sea_level\":1014,\"grnd_level\":1013,\"humidity\":81,\"temp_kf\":0},\"weather\":[{\"id\":804,\"main\":\"Clouds\",\"description\":\"overcast clouds\",\"icon\":\"04n\"}],\"clouds\":{\"all\":92},\"wind\":{\"speed\":5.75,\"deg\":21},\"sys\":{\"pod\":\"n\"},\"dt_txt\":\"2020-04-04 06:00:00\"},{\"dt\":1585990800,\"main\":{\"temp\":279.98,\"feels_like\":275.19,\"temp_min\":279.98,\"temp_max\":279.98,\"pressure\":1016,\"sea_level\":1016,\"grnd_level\":1015,\"humidity\":81,\"temp_kf\":0},\"weather\":[{\"id\":804,\"main\":\"Clouds\",\"description\":\"overcast clouds\",\"icon\":\"04n\"}],\"clouds\":{\"all\":95},\"wind\":{\"speed\":4.91,\"deg\":25},\"sys\":{\"pod\":\"n\"},\"dt_txt\":\"2020-04-04 09:00:00\"},{\"dt\":1586001600,\"main\":{\"temp\":279.95,\"feels_like\":275.13,\"temp_min\":279.95,\"temp_max\":279.95,\"pressure\":1017,\"sea_level\":1017,\"grnd_level\":1016,\"humidity\":80,\"temp_kf\":0},\"weather\":[{\"id\":804,\"main\":\"Clouds\",\"description\":\"overcast clouds\",\"icon\":\"04d\"}],\"clouds\":{\"all\":88},\"wind\":{\"speed\":4.89,\"deg\":38},\"sys\":{\"pod\":\"d\"},\"dt_txt\":\"2020-04-04 12:00:00\"},{\"dt\":1586012400,\"main\":{\"temp\":281.97,\"feels_like\":277.86,\"temp_min\":281.97,\"temp_max\":281.97,\"pressure\":1018,\"sea_level\":1018,\"grnd_level\":1017,\"humidity\":69,\"temp_kf\":0},\"weather\":[{\"id\":803,\"main\":\"Clouds\",\"description\":\"broken clouds\",\"icon\":\"04d\"}],\"clouds\":{\"all\":71},\"wind\":{\"speed\":3.84,\"deg\":46},\"sys\":{\"pod\":\"d\"},\"dt_txt\":\"2020-04-04 15:00:00\"},{\"dt\":1586023200,\"main\":{\"temp\":282.58,\"feels_like\":279.89,\"temp_min\":282.58,\"temp_max\":282.58,\"pressure\":1018,\"sea_level\":1018,\"grnd_level\":1017,\"humidity\":66,\"temp_kf\":0},\"weather\":[{\"id\":803,\"main\":\"Clouds\",\"description\":\"broken clouds\",\"icon\":\"04d\"}],\"clouds\":{\"all\":80},\"wind\":{\"speed\":1.8,\"deg\":25},\"sys\":{\"pod\":\"d\"},\"dt_txt\":\"2020-04-04 18:00:00\"},{\"dt\":1586034000,\"main\":{\"temp\":283.39,\"feels_like\":281.26,\"temp_min\":283.39,\"temp_max\":283.39,\"pressure\":1017,\"sea_level\":1017,\"grnd_level\":1016,\"humidity\":63,\"temp_kf\":0},\"weather\":[{\"id\":804,\"main\":\"Clouds\",\"description\":\"overcast clouds\",\"icon\":\"04d\"}],\"clouds\":{\"all\":91},\"wind\":{\"speed\":1.03,\"deg\":334},\"sys\":{\"pod\":\"d\"},\"dt_txt\":\"2020-04-04 21:00:00\"},{\"dt\":1586044800,\"main\":{\"temp\":281.67,\"feels_like\":279.68,\"temp_min\":281.67,\"temp_max\":281.67,\"pressure\":1018,\"sea_level\":1018,\"grnd_level\":1017,\"humidity\":73,\"temp_kf\":0},\"weather\":[{\"id\":804,\"main\":\"Clouds\",\"description\":\"overcast clouds\",\"icon\":\"04n\"}],\"clouds\":{\"all\":95},\"wind\":{\"speed\":0.95,\"deg\":181},\"sys\":{\"pod\":\"n\"},\"dt_txt\":\"2020-04-05 00:00:00\"},{\"dt\":1586055600,\"main\":{\"temp\":280.34,\"feels_like\":277.25,\"temp_min\":280.34,\"temp_max\":280.34,\"pressure\":1019,\"sea_level\":1019,\"grnd_level\":1018,\"humidity\":79,\"temp_kf\":0},\"weather\":[{\"id\":804,\"main\":\"Clouds\",\"description\":\"overcast clouds\",\"icon\":\"04n\"}],\"clouds\":{\"all\":95},\"wind\":{\"speed\":2.48,\"deg\":164},\"sys\":{\"pod\":\"n\"},\"dt_txt\":\"2020-04-05 03:00:00\"},{\"dt\":1586066400,\"main\":{\"temp\":279.81,\"feels_like\":276.64,\"temp_min\":279.81,\"temp_max\":279.81,\"pressure\":1019,\"sea_level\":1019,\"grnd_level\":1018,\"humidity\":81,\"temp_kf\":0},\"weather\":[{\"id\":804,\"main\":\"Clouds\",\"description\":\"overcast clouds\",\"icon\":\"04n\"}],\"clouds\":{\"all\":95},\"wind\":{\"speed\":2.55,\"deg\":178},\"sys\":{\"pod\":\"n\"},\"dt_txt\":\"2020-04-05 06:00:00\"},{\"dt\":1586077200,\"main\":{\"temp\":279.85,\"feels_like\":276.96,\"temp_min\":279.85,\"temp_max\":279.85,\"pressure\":1019,\"sea_level\":1019,\"grnd_level\":1018,\"humidity\":81,\"temp_kf\":0},\"weather\":[{\"id\":804,\"main\":\"Clouds\",\"description\":\"overcast clouds\",\"icon\":\"04n\"}],\"clouds\":{\"all\":100},\"wind\":{\"speed\":2.15,\"deg\":195},\"sys\":{\"pod\":\"n\"},\"dt_txt\":\"2020-04-05 09:00:00\"},{\"dt\":1586088000,\"main\":{\"temp\":280.28,\"feels_like\":277.45,\"temp_min\":280.28,\"temp_max\":280.28,\"pressure\":1019,\"sea_level\":1019,\"grnd_level\":1018,\"humidity\":82,\"temp_kf\":0},\"weather\":[{\"id\":804,\"main\":\"Clouds\",\"description\":\"overcast clouds\",\"icon\":\"04d\"}],\"clouds\":{\"all\":98},\"wind\":{\"speed\":2.23,\"deg\":195},\"sys\":{\"pod\":\"d\"},\"dt_txt\":\"2020-04-05 12:00:00\"},{\"dt\":1586098800,\"main\":{\"temp\":283.78,\"feels_like\":281.47,\"temp_min\":283.78,\"temp_max\":283.78,\"pressure\":1019,\"sea_level\":1019,\"grnd_level\":1018,\"humidity\":71,\"temp_kf\":0},\"weather\":[{\"id\":804,\"main\":\"Clouds\",\"description\":\"overcast clouds\",\"icon\":\"04d\"}],\"clouds\":{\"all\":100},\"wind\":{\"speed\":1.86,\"deg\":199},\"sys\":{\"pod\":\"d\"},\"dt_txt\":\"2020-04-05 15:00:00\"},{\"dt\":1586109600,\"main\":{\"temp\":284.8,\"feels_like\":282.67,\"temp_min\":284.8,\"temp_max\":284.8,\"pressure\":1018,\"sea_level\":1018,\"grnd_level\":1017,\"humidity\":68,\"temp_kf\":0},\"weather\":[{\"id\":804,\"main\":\"Clouds\",\"description\":\"overcast clouds\",\"icon\":\"04d\"}],\"clouds\":{\"all\":100},\"wind\":{\"speed\":1.71,\"deg\":195},\"sys\":{\"pod\":\"d\"},\"dt_txt\":\"2020-04-05 18:00:00\"},{\"dt\":1586120400,\"main\":{\"temp\":284.13,\"feels_like\":281.95,\"temp_min\":284.13,\"temp_max\":284.13,\"pressure\":1018,\"sea_level\":1018,\"grnd_level\":1017,\"humidity\":76,\"temp_kf\":0},\"weather\":[{\"id\":500,\"main\":\"Rain\",\"description\":\"light rain\",\"icon\":\"10d\"}],\"clouds\":{\"all\":100},\"wind\":{\"speed\":2.09,\"deg\":224},\"rain\":{\"3h\":0.16},\"sys\":{\"pod\":\"d\"},\"dt_txt\":\"2020-04-05 21:00:00\"},{\"dt\":1586131200,\"main\":{\"temp\":282.8,\"feels_like\":280.47,\"temp_min\":282.8,\"temp_max\":282.8,\"pressure\":1018,\"sea_level\":1018,\"grnd_level\":1017,\"humidity\":85,\"temp_kf\":0},\"weather\":[{\"id\":500,\"main\":\"Rain\",\"description\":\"light rain\",\"icon\":\"10n\"}],\"clouds\":{\"all\":100},\"wind\":{\"speed\":2.42,\"deg\":222},\"rain\":{\"3h\":0.18},\"sys\":{\"pod\":\"n\"},\"dt_txt\":\"2020-04-06 00:00:00\"},{\"dt\":1586142000,\"main\":{\"temp\":281.34,\"feels_like\":279.23,\"temp_min\":281.34,\"temp_max\":281.34,\"pressure\":1019,\"sea_level\":1019,\"grnd_level\":1018,\"humidity\":90,\"temp_kf\":0},\"weather\":[{\"id\":803,\"main\":\"Clouds\",\"description\":\"broken clouds\",\"icon\":\"04n\"}],\"clouds\":{\"all\":77},\"wind\":{\"speed\":1.91,\"deg\":244},\"sys\":{\"pod\":\"n\"},\"dt_txt\":\"2020-04-06 03:00:00\"},{\"dt\":1586152800,\"main\":{\"temp\":280.65,\"feels_like\":278.35,\"temp_min\":280.65,\"temp_max\":280.65,\"pressure\":1018,\"sea_level\":1018,\"grnd_level\":1017,\"humidity\":90,\"temp_kf\":0},\"weather\":[{\"id\":802,\"main\":\"Clouds\",\"description\":\"scattered clouds\",\"icon\":\"03n\"}],\"clouds\":{\"all\":48},\"wind\":{\"speed\":1.96,\"deg\":283},\"sys\":{\"pod\":\"n\"},\"dt_txt\":\"2020-04-06 06:00:00\"},{\"dt\":1586163600,\"main\":{\"temp\":280.21,\"feels_like\":277.59,\"temp_min\":280.21,\"temp_max\":280.21,\"pressure\":1019,\"sea_level\":1019,\"grnd_level\":1018,\"humidity\":89,\"temp_kf\":0},\"weather\":[{\"id\":803,\"main\":\"Clouds\",\"description\":\"broken clouds\",\"icon\":\"04n\"}],\"clouds\":{\"all\":81},\"wind\":{\"speed\":2.25,\"deg\":307},\"sys\":{\"pod\":\"n\"},\"dt_txt\":\"2020-04-06 09:00:00\"},{\"dt\":1586174400,\"main\":{\"temp\":281.32,\"feels_like\":278.19,\"temp_min\":281.32,\"temp_max\":281.32,\"pressure\":1020,\"sea_level\":1020,\"grnd_level\":1019,\"humidity\":75,\"temp_kf\":0},\"weather\":[{\"id\":802,\"main\":\"Clouds\",\"description\":\"scattered clouds\",\"icon\":\"03d\"}],\"clouds\":{\"all\":50},\"wind\":{\"speed\":2.59,\"deg\":326},\"sys\":{\"pod\":\"d\"},\"dt_txt\":\"2020-04-06 12:00:00\"},{\"dt\":1586185200,\"main\":{\"temp\":286.44,\"feels_like\":284.35,\"temp_min\":286.44,\"temp_max\":286.44,\"pressure\":1019,\"sea_level\":1019,\"grnd_level\":1019,\"humidity\":50,\"temp_kf\":0},\"weather\":[{\"id\":802,\"main\":\"Clouds\",\"description\":\"scattered clouds\",\"icon\":\"03d\"}],\"clouds\":{\"all\":44},\"wind\":{\"speed\":0.86,\"deg\":343},\"sys\":{\"pod\":\"d\"},\"dt_txt\":\"2020-04-06 15:00:00\"},{\"dt\":1586196000,\"main\":{\"temp\":288.16,\"feels_like\":284.95,\"temp_min\":288.16,\"temp_max\":288.16,\"pressure\":1018,\"sea_level\":1018,\"grnd_level\":1017,\"humidity\":37,\"temp_kf\":0},\"weather\":[{\"id\":803,\"main\":\"Clouds\",\"description\":\"broken clouds\",\"icon\":\"04d\"}],\"clouds\":{\"all\":72},\"wind\":{\"speed\":1.84,\"deg\":265},\"sys\":{\"pod\":\"d\"},\"dt_txt\":\"2020-04-06 18:00:00\"},{\"dt\":1586206800,\"main\":{\"temp\":287.93,\"feels_like\":285.24,\"temp_min\":287.93,\"temp_max\":287.93,\"pressure\":1016,\"sea_level\":1016,\"grnd_level\":1015,\"humidity\":42,\"temp_kf\":0},\"weather\":[{\"id\":804,\"main\":\"Clouds\",\"description\":\"overcast clouds\",\"icon\":\"04d\"}],\"clouds\":{\"all\":100},\"wind\":{\"speed\":1.45,\"deg\":219},\"sys\":{\"pod\":\"d\"},\"dt_txt\":\"2020-04-06 21:00:00\"},{\"dt\":1586217600,\"main\":{\"temp\":283.68,\"feels_like\":280.02,\"temp_min\":283.68,\"temp_max\":283.68,\"pressure\":1016,\"sea_level\":1016,\"grnd_level\":1016,\"humidity\":61,\"temp_kf\":0},\"weather\":[{\"id\":804,\"main\":\"Clouds\",\"description\":\"overcast clouds\",\"icon\":\"04n\"}],\"clouds\":{\"all\":94},\"wind\":{\"speed\":3.17,\"deg\":192},\"sys\":{\"pod\":\"n\"},\"dt_txt\":\"2020-04-07 00:00:00\"},{\"dt\":1586228400,\"main\":{\"temp\":282.92,\"feels_like\":280.88,\"temp_min\":282.92,\"temp_max\":282.92,\"pressure\":1016,\"sea_level\":1016,\"grnd_level\":1015,\"humidity\":88,\"temp_kf\":0},\"weather\":[{\"id\":500,\"main\":\"Rain\",\"description\":\"light rain\",\"icon\":\"10n\"}],\"clouds\":{\"all\":96},\"wind\":{\"speed\":2.21,\"deg\":180},\"rain\":{\"3h\":1.32},\"sys\":{\"pod\":\"n\"},\"dt_txt\":\"2020-04-07 03:00:00\"},{\"dt\":1586239200,\"main\":{\"temp\":282.57,\"feels_like\":281.32,\"temp_min\":282.57,\"temp_max\":282.57,\"pressure\":1015,\"sea_level\":1015,\"grnd_level\":1014,\"humidity\":92,\"temp_kf\":0},\"weather\":[{\"id\":500,\"main\":\"Rain\",\"description\":\"light rain\",\"icon\":\"10n\"}],\"clouds\":{\"all\":98},\"wind\":{\"speed\":1.19,\"deg\":167},\"rain\":{\"3h\":1.01},\"sys\":{\"pod\":\"n\"},\"dt_txt\":\"2020-04-07 06:00:00\"},{\"dt\":1586250000,\"main\":{\"temp\":282.31,\"feels_like\":280.82,\"temp_min\":282.31,\"temp_max\":282.31,\"pressure\":1014,\"sea_level\":1014,\"grnd_level\":1013,\"humidity\":93,\"temp_kf\":0},\"weather\":[{\"id\":804,\"main\":\"Clouds\",\"description\":\"overcast clouds\",\"icon\":\"04n\"}],\"clouds\":{\"all\":85},\"wind\":{\"speed\":1.49,\"deg\":83},\"sys\":{\"pod\":\"n\"},\"dt_txt\":\"2020-04-07 09:00:00\"},{\"dt\":1586260800,\"main\":{\"temp\":282.81,\"feels_like\":281.81,\"temp_min\":282.81,\"temp_max\":282.81,\"pressure\":1016,\"sea_level\":1016,\"grnd_level\":1015,\"humidity\":91,\"temp_kf\":0},\"weather\":[{\"id\":803,\"main\":\"Clouds\",\"description\":\"broken clouds\",\"icon\":\"04d\"}],\"clouds\":{\"all\":82},\"wind\":{\"speed\":0.86,\"deg\":43},\"sys\":{\"pod\":\"d\"},\"dt_txt\":\"2020-04-07 12:00:00\"},{\"dt\":1586271600,\"main\":{\"temp\":286.84,\"feels_like\":285.35,\"temp_min\":286.84,\"temp_max\":286.84,\"pressure\":1015,\"sea_level\":1015,\"grnd_level\":1015,\"humidity\":65,\"temp_kf\":0},\"weather\":[{\"id\":803,\"main\":\"Clouds\",\"description\":\"broken clouds\",\"icon\":\"04d\"}],\"clouds\":{\"all\":61},\"wind\":{\"speed\":1.21,\"deg\":19},\"sys\":{\"pod\":\"d\"},\"dt_txt\":\"2020-04-07 15:00:00\"},{\"dt\":1586282400,\"main\":{\"temp\":288.86,\"feels_like\":286.91,\"temp_min\":288.86,\"temp_max\":288.86,\"pressure\":1014,\"sea_level\":1014,\"grnd_level\":1013,\"humidity\":49,\"temp_kf\":0},\"weather\":[{\"id\":802,\"main\":\"Clouds\",\"description\":\"scattered clouds\",\"icon\":\"03d\"}],\"clouds\":{\"all\":50},\"wind\":{\"speed\":1.19,\"deg\":296},\"sys\":{\"pod\":\"d\"},\"dt_txt\":\"2020-04-07 18:00:00\"}],\"city\":{\"id\":4839366,\"name\":\"New Haven\",\"coord\":{\"lat\":41.3082,\"lon\":-72.9282},\"country\":\"US\",\"population\":129779,\"timezone\":-14400,\"sunrise\":1585823532,\"sunset\":1585869461}}'"
   ]
  },
  {
   "cell_type": "markdown",
   "metadata": {},
   "source": [
    "Errors in pyowm means I can't get sunrise/sunset time directly, so moving to:\n",
    "- Calling the api manually for the forcast JSON\n",
    "- Extracting the sunrise/sunset time\n",
    "- Passing the JSON back into the pyowm parser then use the work from above"
   ]
  },
  {
   "cell_type": "code",
   "execution_count": 14,
   "metadata": {},
   "outputs": [],
   "source": [
    "api_url = 'http://api.openweathermap.org/data/2.5/forecast'\n",
    "payload = {\n",
    "    'lat': park_lat,\n",
    "    'lon': park_long,\n",
    "    'appid': OWM_api_key}\n",
    "r = requests.get(api_url, params=payload)"
   ]
  },
  {
   "cell_type": "code",
   "execution_count": 15,
   "metadata": {},
   "outputs": [],
   "source": [
    "d = json.loads(r.text)"
   ]
  },
  {
   "cell_type": "code",
   "execution_count": 16,
   "metadata": {},
   "outputs": [],
   "source": [
    "sunrise_time = d['city']['sunrise']\n",
    "sunset_time = d['city']['sunset']\n",
    "tz_correct = d['city']['timezone']"
   ]
  },
  {
   "cell_type": "code",
   "execution_count": 17,
   "metadata": {},
   "outputs": [],
   "source": [
    "weather_df = forcast_to_df(forecastparser.ForecastParser().parse_JSON(r.text), sunrise_time, sunset_time, tz_correct)"
   ]
  },
  {
   "cell_type": "markdown",
   "metadata": {},
   "source": [
    "The dataframe `weather_df` is what I'll be adding to the log of forcast data."
   ]
  },
  {
   "cell_type": "code",
   "execution_count": 18,
   "metadata": {},
   "outputs": [],
   "source": [
    "weather_df.to_csv('example_weather_df.csv')"
   ]
  },
  {
   "cell_type": "code",
   "execution_count": null,
   "metadata": {},
   "outputs": [],
   "source": []
  }
 ],
 "metadata": {
  "kernelspec": {
   "display_name": "Python 3",
   "language": "python",
   "name": "python3"
  },
  "language_info": {
   "codemirror_mode": {
    "name": "ipython",
    "version": 3
   },
   "file_extension": ".py",
   "mimetype": "text/x-python",
   "name": "python",
   "nbconvert_exporter": "python",
   "pygments_lexer": "ipython3",
   "version": "3.8.2"
  }
 },
 "nbformat": 4,
 "nbformat_minor": 4
}
